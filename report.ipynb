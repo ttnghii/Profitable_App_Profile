{
 "cells": [
  {
   "cell_type": "code",
   "execution_count": 1,
   "metadata": {},
   "outputs": [],
   "source": [
    "import os\n",
    "import pandas as pd"
   ]
  },
  {
   "cell_type": "code",
   "execution_count": 2,
   "metadata": {},
   "outputs": [],
   "source": [
    "def explore_data(folder_path):\n",
    "    data = []\n",
    "    for file_name in os.listdir(folder_path):\n",
    "        file_path = os.path.join(folder_path, file_name)\n",
    "        df = pd.read_csv(file_path)    \n",
    "        data.append(df)\n",
    "    return data"
   ]
  },
  {
   "cell_type": "code",
   "execution_count": 3,
   "metadata": {},
   "outputs": [
    {
     "name": "stdout",
     "output_type": "stream",
     "text": [
      "Ios dataset:\n",
      "Total rows: 7197, Total columns: 16\n",
      "Android dataset:\n",
      "Total rows: 10841, Total columns: 13\n"
     ]
    }
   ],
   "source": [
    "folder_path = 'dataset'\n",
    "\n",
    "ios, android = explore_data(folder_path=folder_path)\n",
    "\n",
    "print(f'Ios dataset:\\nTotal rows: {len(ios)}, Total columns: {len(ios.columns)}')\n",
    "print(f'Android dataset:\\nTotal rows: {len(android)}, Total columns: {len(android.columns)}')"
   ]
  },
  {
   "cell_type": "markdown",
   "metadata": {},
   "source": [
    "## **Data Preprocessing**"
   ]
  },
  {
   "cell_type": "markdown",
   "metadata": {},
   "source": [
    "### Removing inaccurate data"
   ]
  },
  {
   "cell_type": "markdown",
   "metadata": {},
   "source": [
    "The Google Play data set has a dedicated discussion section, and one of the discussions outlines an error for row 10472."
   ]
  },
  {
   "cell_type": "code",
   "execution_count": 4,
   "metadata": {},
   "outputs": [
    {
     "name": "stdout",
     "output_type": "stream",
     "text": [
      "App               Life Made WI-Fi Touchscreen Photo Frame\n",
      "Category                                              1.9\n",
      "Rating                                               19.0\n",
      "Reviews                                              3.0M\n",
      "Size                                               1,000+\n",
      "Installs                                             Free\n",
      "Type                                                    0\n",
      "Price                                            Everyone\n",
      "Content Rating                                        NaN\n",
      "Genres                                  February 11, 2018\n",
      "Last Updated                                       1.0.19\n",
      "Current Ver                                    4.0 and up\n",
      "Android Ver                                           NaN\n",
      "Name: 10472, dtype: object\n"
     ]
    }
   ],
   "source": [
    "print(android.iloc[10472])"
   ]
  },
  {
   "cell_type": "markdown",
   "metadata": {},
   "source": [
    "We can see that row 10472 have a mistake in two columns:\n",
    "- `Category`: it must be a string.\n",
    "- `Rating`: the range of this value is within $[0, 5]$, so it cannot be $4.1$.\n",
    "\n",
    "We don't know the correct information, so we'll delete this row."
   ]
  },
  {
   "cell_type": "code",
   "execution_count": 5,
   "metadata": {},
   "outputs": [
    {
     "name": "stdout",
     "output_type": "stream",
     "text": [
      "10840\n"
     ]
    }
   ],
   "source": [
    "android = android.drop(index=10472)\n",
    "print(len(android))"
   ]
  },
  {
   "cell_type": "markdown",
   "metadata": {},
   "source": [
    "### Removing duplicate app entries"
   ]
  },
  {
   "cell_type": "markdown",
   "metadata": {},
   "source": [
    "After receiving [feedback](https://www.kaggle.com/datasets/lava18/google-play-store-apps/discussion) from Google Play users, they noticed that some apps has duplicate entries."
   ]
  },
  {
   "cell_type": "markdown",
   "metadata": {},
   "source": [
    "For example, let's see how many entries the Instagram app has:"
   ]
  },
  {
   "cell_type": "code",
   "execution_count": 6,
   "metadata": {},
   "outputs": [
    {
     "data": {
      "text/html": [
       "<div>\n",
       "<style scoped>\n",
       "    .dataframe tbody tr th:only-of-type {\n",
       "        vertical-align: middle;\n",
       "    }\n",
       "\n",
       "    .dataframe tbody tr th {\n",
       "        vertical-align: top;\n",
       "    }\n",
       "\n",
       "    .dataframe thead th {\n",
       "        text-align: right;\n",
       "    }\n",
       "</style>\n",
       "<table border=\"1\" class=\"dataframe\">\n",
       "  <thead>\n",
       "    <tr style=\"text-align: right;\">\n",
       "      <th></th>\n",
       "      <th>App</th>\n",
       "      <th>Category</th>\n",
       "      <th>Rating</th>\n",
       "      <th>Reviews</th>\n",
       "      <th>Size</th>\n",
       "      <th>Installs</th>\n",
       "      <th>Type</th>\n",
       "      <th>Price</th>\n",
       "      <th>Content Rating</th>\n",
       "      <th>Genres</th>\n",
       "      <th>Last Updated</th>\n",
       "      <th>Current Ver</th>\n",
       "      <th>Android Ver</th>\n",
       "    </tr>\n",
       "  </thead>\n",
       "  <tbody>\n",
       "    <tr>\n",
       "      <th>2545</th>\n",
       "      <td>Instagram</td>\n",
       "      <td>SOCIAL</td>\n",
       "      <td>4.5</td>\n",
       "      <td>66577313</td>\n",
       "      <td>Varies with device</td>\n",
       "      <td>1,000,000,000+</td>\n",
       "      <td>Free</td>\n",
       "      <td>0</td>\n",
       "      <td>Teen</td>\n",
       "      <td>Social</td>\n",
       "      <td>July 31, 2018</td>\n",
       "      <td>Varies with device</td>\n",
       "      <td>Varies with device</td>\n",
       "    </tr>\n",
       "    <tr>\n",
       "      <th>2604</th>\n",
       "      <td>Instagram</td>\n",
       "      <td>SOCIAL</td>\n",
       "      <td>4.5</td>\n",
       "      <td>66577446</td>\n",
       "      <td>Varies with device</td>\n",
       "      <td>1,000,000,000+</td>\n",
       "      <td>Free</td>\n",
       "      <td>0</td>\n",
       "      <td>Teen</td>\n",
       "      <td>Social</td>\n",
       "      <td>July 31, 2018</td>\n",
       "      <td>Varies with device</td>\n",
       "      <td>Varies with device</td>\n",
       "    </tr>\n",
       "    <tr>\n",
       "      <th>2611</th>\n",
       "      <td>Instagram</td>\n",
       "      <td>SOCIAL</td>\n",
       "      <td>4.5</td>\n",
       "      <td>66577313</td>\n",
       "      <td>Varies with device</td>\n",
       "      <td>1,000,000,000+</td>\n",
       "      <td>Free</td>\n",
       "      <td>0</td>\n",
       "      <td>Teen</td>\n",
       "      <td>Social</td>\n",
       "      <td>July 31, 2018</td>\n",
       "      <td>Varies with device</td>\n",
       "      <td>Varies with device</td>\n",
       "    </tr>\n",
       "    <tr>\n",
       "      <th>3909</th>\n",
       "      <td>Instagram</td>\n",
       "      <td>SOCIAL</td>\n",
       "      <td>4.5</td>\n",
       "      <td>66509917</td>\n",
       "      <td>Varies with device</td>\n",
       "      <td>1,000,000,000+</td>\n",
       "      <td>Free</td>\n",
       "      <td>0</td>\n",
       "      <td>Teen</td>\n",
       "      <td>Social</td>\n",
       "      <td>July 31, 2018</td>\n",
       "      <td>Varies with device</td>\n",
       "      <td>Varies with device</td>\n",
       "    </tr>\n",
       "  </tbody>\n",
       "</table>\n",
       "</div>"
      ],
      "text/plain": [
       "            App Category  Rating   Reviews                Size  \\\n",
       "2545  Instagram   SOCIAL     4.5  66577313  Varies with device   \n",
       "2604  Instagram   SOCIAL     4.5  66577446  Varies with device   \n",
       "2611  Instagram   SOCIAL     4.5  66577313  Varies with device   \n",
       "3909  Instagram   SOCIAL     4.5  66509917  Varies with device   \n",
       "\n",
       "            Installs  Type Price Content Rating  Genres   Last Updated  \\\n",
       "2545  1,000,000,000+  Free     0           Teen  Social  July 31, 2018   \n",
       "2604  1,000,000,000+  Free     0           Teen  Social  July 31, 2018   \n",
       "2611  1,000,000,000+  Free     0           Teen  Social  July 31, 2018   \n",
       "3909  1,000,000,000+  Free     0           Teen  Social  July 31, 2018   \n",
       "\n",
       "             Current Ver         Android Ver  \n",
       "2545  Varies with device  Varies with device  \n",
       "2604  Varies with device  Varies with device  \n",
       "2611  Varies with device  Varies with device  \n",
       "3909  Varies with device  Varies with device  "
      ]
     },
     "execution_count": 6,
     "metadata": {},
     "output_type": "execute_result"
    }
   ],
   "source": [
    "instagram_android = android[android.iloc[:,0] == 'Instagram']\n",
    "instagram_android"
   ]
  },
  {
   "cell_type": "markdown",
   "metadata": {},
   "source": [
    "Check out the number of similar cases in the Android dataset:"
   ]
  },
  {
   "cell_type": "code",
   "execution_count": 7,
   "metadata": {},
   "outputs": [
    {
     "name": "stdout",
     "output_type": "stream",
     "text": [
      "Number of duplicate apps: 1181\n"
     ]
    }
   ],
   "source": [
    "duplicate_apps, unique_apps = [], []\n",
    "\n",
    "[duplicate_apps.append(name) if name in unique_apps else unique_apps.append(name) for name in android.iloc[:,0]]\n",
    "\n",
    "print('Number of duplicate apps:', len(duplicate_apps))"
   ]
  },
  {
   "cell_type": "markdown",
   "metadata": {},
   "source": [
    "To build android dataset with distinct app, we will create a dictionary, where each key is a unique app name and the corresponding dictionary value is the **highest number** of reviews of that app."
   ]
  },
  {
   "cell_type": "code",
   "execution_count": 8,
   "metadata": {},
   "outputs": [
    {
     "name": "stdout",
     "output_type": "stream",
     "text": [
      "9659\n"
     ]
    }
   ],
   "source": [
    "reviews_max = {}\n",
    "\n",
    "for app in range(len(android)):\n",
    "\n",
    "    name = android.iloc[app, 0]\n",
    "    n_reviews = float(android.iloc[app, 3])\n",
    "\n",
    "    if (name in reviews_max) and (reviews_max[name] < n_reviews):\n",
    "        reviews_max[name] = n_reviews\n",
    "\n",
    "    elif name not in reviews_max:\n",
    "        reviews_max[name] = n_reviews\n",
    "\n",
    "print(len(reviews_max))"
   ]
  },
  {
   "cell_type": "markdown",
   "metadata": {},
   "source": [
    "Comparing our result with the expected length:"
   ]
  },
  {
   "cell_type": "code",
   "execution_count": 9,
   "metadata": {},
   "outputs": [
    {
     "data": {
      "text/plain": [
       "True"
      ]
     },
     "execution_count": 9,
     "metadata": {},
     "output_type": "execute_result"
    }
   ],
   "source": [
    "len(reviews_max) == (len(android) - 1181)"
   ]
  },
  {
   "cell_type": "markdown",
   "metadata": {},
   "source": [
    "Now, let's use the `reviews_max` dictionary to remove the duplicates."
   ]
  },
  {
   "cell_type": "code",
   "execution_count": 10,
   "metadata": {},
   "outputs": [],
   "source": [
    "android_cleaned, already_added = [], []\n",
    "\n",
    "for app in range(len(android)):\n",
    "    name = android.iloc[app, 0]\n",
    "    n_reviews = float(android.iloc[app, 3])\n",
    "    \n",
    "    if (reviews_max[name] == n_reviews) and (name not in already_added):\n",
    "        android_cleaned.append(android.iloc[app, :])\n",
    "        already_added.append(name)"
   ]
  },
  {
   "cell_type": "code",
   "execution_count": 11,
   "metadata": {},
   "outputs": [
    {
     "data": {
      "text/plain": [
       "9659"
      ]
     },
     "execution_count": 11,
     "metadata": {},
     "output_type": "execute_result"
    }
   ],
   "source": [
    "len(android_cleaned)"
   ]
  },
  {
   "cell_type": "markdown",
   "metadata": {},
   "source": [
    "<br>\n",
    "\n",
    "Because App Store data has no duplicates, so we go to the next step."
   ]
  },
  {
   "cell_type": "code",
   "execution_count": 12,
   "metadata": {},
   "outputs": [
    {
     "name": "stdout",
     "output_type": "stream",
     "text": [
      "0\n"
     ]
    }
   ],
   "source": [
    "print(ios.duplicated(keep=False).sum())"
   ]
  },
  {
   "cell_type": "markdown",
   "metadata": {},
   "source": [
    "### Removing Non-English apps"
   ]
  },
  {
   "cell_type": "markdown",
   "metadata": {},
   "source": [
    "To make the dataset more personalized and relevant to the needs of companies, we will build a dataset containing only apps with English names."
   ]
  },
  {
   "cell_type": "markdown",
   "metadata": {},
   "source": [
    "The numbers corresponding to the English characties are all in the range 0 to 127, according to the ASCII (American Standard Code for Information Interchange) system."
   ]
  },
  {
   "cell_type": "markdown",
   "metadata": {},
   "source": [
    "However, it is easy to see exceptional cases. Due to the ASCII number range, our function cannot recognize English names containing special characters.\n",
    "\n",
    "Therefore, to minimize the impact of data loss, we set a threshold before deleting any app. After consulting a number of apps in both mobile stores, we chose `threshold = 3`, which means we only delete an app if it has more than 3 non-ASCII characters."
   ]
  },
  {
   "cell_type": "code",
   "execution_count": 13,
   "metadata": {},
   "outputs": [],
   "source": [
    "def is_english(string):\n",
    "    non_ascii = 0\n",
    "\n",
    "    for letters in string:\n",
    "        if ord(letters) > 127:\n",
    "            non_ascii += 1\n",
    "    \n",
    "    if non_ascii > 3:\n",
    "        return False\n",
    "    else:\n",
    "        return True            "
   ]
  },
  {
   "cell_type": "code",
   "execution_count": 14,
   "metadata": {},
   "outputs": [
    {
     "name": "stderr",
     "output_type": "stream",
     "text": [
      "/tmp/ipykernel_90609/1342614544.py:4: FutureWarning: Series.__getitem__ treating keys as positions is deprecated. In a future version, integer keys will always be treated as labels (consistent with DataFrame behavior). To access a value by position, use `ser.iloc[pos]`\n",
      "  name = app[0]\n"
     ]
    },
    {
     "name": "stdout",
     "output_type": "stream",
     "text": [
      "6183 9614\n"
     ]
    }
   ],
   "source": [
    "english_android, english_ios = [], []\n",
    "\n",
    "for app in android_cleaned:\n",
    "    name = app[0]\n",
    "    if is_english(name):\n",
    "        english_android.append(app)\n",
    "\n",
    "for app in range(len(ios)):\n",
    "    name = ios.iloc[app, 1]\n",
    "    if is_english(name):\n",
    "        english_ios.append(ios.iloc[app])     \n",
    "\n",
    "print(len(english_ios), len(english_android))           "
   ]
  },
  {
   "cell_type": "markdown",
   "metadata": {},
   "source": [
    "### Isolating the free apps"
   ]
  },
  {
   "cell_type": "code",
   "execution_count": 15,
   "metadata": {},
   "outputs": [
    {
     "name": "stdout",
     "output_type": "stream",
     "text": [
      "ios: float64\n",
      "android: object\n"
     ]
    }
   ],
   "source": [
    "# Check data types of price column\n",
    "\n",
    "print(f'ios: {pd.DataFrame(english_ios)['price'].dtypes}')\n",
    "print(f'android: {pd.DataFrame(english_android)['Price'].dtypes}')"
   ]
  },
  {
   "cell_type": "code",
   "execution_count": 16,
   "metadata": {},
   "outputs": [
    {
     "name": "stderr",
     "output_type": "stream",
     "text": [
      "/tmp/ipykernel_90609/3878668025.py:4: FutureWarning: Series.__getitem__ treating keys as positions is deprecated. In a future version, integer keys will always be treated as labels (consistent with DataFrame behavior). To access a value by position, use `ser.iloc[pos]`\n",
      "  price = app[4]\n",
      "/tmp/ipykernel_90609/3878668025.py:9: FutureWarning: Series.__getitem__ treating keys as positions is deprecated. In a future version, integer keys will always be treated as labels (consistent with DataFrame behavior). To access a value by position, use `ser.iloc[pos]`\n",
      "  price = app[7]\n"
     ]
    },
    {
     "name": "stdout",
     "output_type": "stream",
     "text": [
      "3222 8864\n"
     ]
    }
   ],
   "source": [
    "final_ios, final_android = [], []\n",
    "\n",
    "for app in english_ios:\n",
    "    price = app[4]\n",
    "    if price == 0.0:\n",
    "        final_ios.append(app)\n",
    "\n",
    "for app in english_android:\n",
    "    price = app[7]\n",
    "    if price == '0':\n",
    "        final_android.append(app)\n",
    "\n",
    "print(len(final_ios), len(final_android))"
   ]
  },
  {
   "cell_type": "markdown",
   "metadata": {},
   "source": [
    "## **Classify the most common apps by genre**"
   ]
  },
  {
   "cell_type": "markdown",
   "metadata": {},
   "source": [
    "Our goal is to identify the type of app that is likely to attract more users, which will increase our revenue.\n",
    "\n",
    "In my country, Android is more accessible to many people in many different jobs than IOS. Therefore, our validation strategy for app ideas has three steps, first building on Android and then IOS:\n",
    "1. First, we build a minimal Android version of the app, then add it to Google Play.\n",
    "2. If we get a lot of positive feedback from users, we will develop it further.\n",
    "3. If the app is profitable after six months, we will build an IOS version and add it to the App Store."
   ]
  },
  {
   "cell_type": "markdown",
   "metadata": {},
   "source": [
    "### Build the functions"
   ]
  },
  {
   "cell_type": "markdown",
   "metadata": {},
   "source": [
    "Now, we will build functions to analyze the frequency tables of our dataset:"
   ]
  },
  {
   "cell_type": "code",
   "execution_count": 17,
   "metadata": {},
   "outputs": [],
   "source": [
    "def freq_table(dataset, index):\n",
    "    '''\n",
    "    Generate frequency tables that show percentages \n",
    "    '''\n",
    "    table, total = {}, 0\n",
    "    for row in dataset:\n",
    "        total += 1\n",
    "        value = row[index]\n",
    "        if value in table:\n",
    "            table[value] += 1\n",
    "        else:\n",
    "            table[value] = 1\n",
    "\n",
    "    percentage_table = {}\n",
    "    for key in table:\n",
    "        percentage_table[key] = table[key] * 100 / total\n",
    "\n",
    "    return percentage_table"
   ]
  },
  {
   "cell_type": "code",
   "execution_count": 18,
   "metadata": {},
   "outputs": [],
   "source": [
    "def display_table(dataset, index):\n",
    "    '''\n",
    "    Display the percentages in a descending order\n",
    "    '''\n",
    "    table = freq_table(dataset, index)\n",
    "    displayed_table = []\n",
    "    for key in table:\n",
    "        displayed_table.append((table[key], key))\n",
    "    \n",
    "    sorted_table = sorted(displayed_table, reverse=True)\n",
    "    for entry in sorted_table:\n",
    "        print(f'{entry[1]}: {entry[0]}')"
   ]
  },
  {
   "cell_type": "markdown",
   "metadata": {},
   "source": [
    "### Examining"
   ]
  },
  {
   "cell_type": "markdown",
   "metadata": {},
   "source": [
    "Let's check by examining the frequency table for the `prime_genre` column of the App Store:"
   ]
  },
  {
   "cell_type": "code",
   "execution_count": 19,
   "metadata": {},
   "outputs": [
    {
     "name": "stdout",
     "output_type": "stream",
     "text": [
      "Games: 58.16263190564867\n",
      "Entertainment: 7.883302296710118\n",
      "Photo & Video: 4.9658597144630665\n",
      "Education: 3.6623215394165114\n",
      "Social Networking: 3.2898820608317814\n",
      "Shopping: 2.60707635009311\n",
      "Utilities: 2.5139664804469275\n",
      "Sports: 2.1415270018621975\n",
      "Music: 2.0484171322160147\n",
      "Health & Fitness: 2.017380509000621\n",
      "Productivity: 1.7380509000620732\n",
      "Lifestyle: 1.5828677839851024\n",
      "News: 1.3345747982619491\n",
      "Travel: 1.2414649286157666\n",
      "Finance: 1.1173184357541899\n",
      "Weather: 0.8690254500310366\n",
      "Food & Drink: 0.8069522036002483\n",
      "Reference: 0.5586592178770949\n",
      "Business: 0.5276225946617008\n",
      "Book: 0.4345127250155183\n",
      "Navigation: 0.186219739292365\n",
      "Medical: 0.186219739292365\n",
      "Catalogs: 0.12414649286157665\n"
     ]
    },
    {
     "name": "stderr",
     "output_type": "stream",
     "text": [
      "/tmp/ipykernel_90609/618562121.py:8: FutureWarning: Series.__getitem__ treating keys as positions is deprecated. In a future version, integer keys will always be treated as labels (consistent with DataFrame behavior). To access a value by position, use `ser.iloc[pos]`\n",
      "  value = row[index]\n"
     ]
    }
   ],
   "source": [
    "display_table(final_ios, -5)"
   ]
  },
  {
   "cell_type": "markdown",
   "metadata": {},
   "source": [
    "Looking at the data, we see that more than half are games (58.16%). Other apps only contribute a small percentage, such as Entertainment coming in second with around 8%, followed by Photo & Video apps with almost 5%. There is a sharp decrease with only 3.66% for educational apps, 3.29% for Social Networking apps, etc.\n",
    "\n",
    "Although it is easy to see that there are many free English apps designed for entertainment (games, entertainment, etc.), while practical apps are rarer. However, this fact does not mean that entertainment apps also have the largest number of users.\n",
    "\n",
    "That is why we need to continue looking at the `Genre` and `Category` columns of the Google Play Store for more details."
   ]
  },
  {
   "cell_type": "code",
   "execution_count": 20,
   "metadata": {},
   "outputs": [
    {
     "name": "stderr",
     "output_type": "stream",
     "text": [
      "/tmp/ipykernel_90609/618562121.py:8: FutureWarning: Series.__getitem__ treating keys as positions is deprecated. In a future version, integer keys will always be treated as labels (consistent with DataFrame behavior). To access a value by position, use `ser.iloc[pos]`\n",
      "  value = row[index]\n"
     ]
    },
    {
     "name": "stdout",
     "output_type": "stream",
     "text": [
      "FAMILY: 18.907942238267147\n",
      "GAME: 9.724729241877256\n",
      "TOOLS: 8.461191335740072\n",
      "BUSINESS: 4.591606498194946\n",
      "LIFESTYLE: 3.9034296028880866\n",
      "PRODUCTIVITY: 3.892148014440433\n",
      "FINANCE: 3.700361010830325\n",
      "MEDICAL: 3.5311371841155235\n",
      "SPORTS: 3.395758122743682\n",
      "PERSONALIZATION: 3.3167870036101084\n",
      "COMMUNICATION: 3.237815884476534\n",
      "HEALTH_AND_FITNESS: 3.079873646209386\n",
      "PHOTOGRAPHY: 2.9444945848375452\n",
      "NEWS_AND_MAGAZINES: 2.7978339350180503\n",
      "SOCIAL: 2.6624548736462095\n",
      "TRAVEL_AND_LOCAL: 2.33528880866426\n",
      "SHOPPING: 2.2450361010830324\n",
      "BOOKS_AND_REFERENCE: 2.1435018050541514\n",
      "DATING: 1.861462093862816\n",
      "VIDEO_PLAYERS: 1.7937725631768953\n",
      "MAPS_AND_NAVIGATION: 1.3989169675090252\n",
      "FOOD_AND_DRINK: 1.2409747292418774\n",
      "EDUCATION: 1.1620036101083033\n",
      "ENTERTAINMENT: 0.9589350180505415\n",
      "LIBRARIES_AND_DEMO: 0.9363718411552346\n",
      "AUTO_AND_VEHICLES: 0.9250902527075813\n",
      "HOUSE_AND_HOME: 0.8235559566787004\n",
      "WEATHER: 0.8009927797833934\n",
      "EVENTS: 0.7107400722021661\n",
      "PARENTING: 0.6543321299638989\n",
      "ART_AND_DESIGN: 0.6430505415162455\n",
      "COMICS: 0.6204873646209387\n",
      "BEAUTY: 0.5979241877256317\n"
     ]
    }
   ],
   "source": [
    "display_table(final_android, 1)"
   ]
  },
  {
   "cell_type": "markdown",
   "metadata": {},
   "source": [
    "Surprisingly, unlike the App Store, there are a few actual apps designed in the Google Play Store (Family, Tools, Business, etc.).\n",
    "\n",
    "However, if we dig deeper, we can see that the family category (19%) is mainly made up of games for kids."
   ]
  },
  {
   "cell_type": "markdown",
   "metadata": {},
   "source": [
    "<br>\n",
    "\n",
    "Now we go to `Genres` column:"
   ]
  },
  {
   "cell_type": "code",
   "execution_count": 21,
   "metadata": {},
   "outputs": [
    {
     "name": "stdout",
     "output_type": "stream",
     "text": [
      "Tools: 8.449909747292418\n",
      "Entertainment: 6.069494584837545\n",
      "Education: 5.347472924187725\n",
      "Business: 4.591606498194946\n",
      "Productivity: 3.892148014440433\n",
      "Lifestyle: 3.892148014440433\n",
      "Finance: 3.700361010830325\n",
      "Medical: 3.5311371841155235\n",
      "Sports: 3.463447653429603\n",
      "Personalization: 3.3167870036101084\n",
      "Communication: 3.237815884476534\n",
      "Action: 3.1024368231046933\n",
      "Health & Fitness: 3.079873646209386\n",
      "Photography: 2.9444945848375452\n",
      "News & Magazines: 2.7978339350180503\n",
      "Social: 2.6624548736462095\n",
      "Travel & Local: 2.3240072202166067\n",
      "Shopping: 2.2450361010830324\n",
      "Books & Reference: 2.1435018050541514\n",
      "Simulation: 2.041967509025271\n",
      "Dating: 1.861462093862816\n",
      "Arcade: 1.8501805054151625\n",
      "Video Players & Editors: 1.7712093862815885\n",
      "Casual: 1.759927797833935\n",
      "Maps & Navigation: 1.3989169675090252\n",
      "Food & Drink: 1.2409747292418774\n",
      "Puzzle: 1.128158844765343\n",
      "Racing: 0.9927797833935018\n",
      "Role Playing: 0.9363718411552346\n",
      "Libraries & Demo: 0.9363718411552346\n",
      "Auto & Vehicles: 0.9250902527075813\n",
      "Strategy: 0.9138086642599278\n",
      "House & Home: 0.8235559566787004\n",
      "Weather: 0.8009927797833934\n",
      "Events: 0.7107400722021661\n",
      "Adventure: 0.6768953068592057\n",
      "Comics: 0.6092057761732852\n",
      "Beauty: 0.5979241877256317\n",
      "Art & Design: 0.5979241877256317\n",
      "Parenting: 0.4963898916967509\n",
      "Card: 0.45126353790613716\n",
      "Casino: 0.4287003610108303\n",
      "Trivia: 0.4174187725631769\n",
      "Educational;Education: 0.39485559566787004\n",
      "Board: 0.3835740072202166\n",
      "Educational: 0.3722924187725632\n",
      "Education;Education: 0.33844765342960287\n",
      "Word: 0.2594765342960289\n",
      "Casual;Pretend Play: 0.23691335740072203\n",
      "Music: 0.20306859205776173\n",
      "Racing;Action & Adventure: 0.16922382671480143\n",
      "Puzzle;Brain Games: 0.16922382671480143\n",
      "Entertainment;Music & Video: 0.16922382671480143\n",
      "Casual;Brain Games: 0.13537906137184116\n",
      "Casual;Action & Adventure: 0.13537906137184116\n",
      "Arcade;Action & Adventure: 0.12409747292418773\n",
      "Action;Action & Adventure: 0.10153429602888087\n",
      "Educational;Pretend Play: 0.09025270758122744\n",
      "Simulation;Action & Adventure: 0.078971119133574\n",
      "Parenting;Education: 0.078971119133574\n",
      "Entertainment;Brain Games: 0.078971119133574\n",
      "Board;Brain Games: 0.078971119133574\n",
      "Parenting;Music & Video: 0.06768953068592058\n",
      "Educational;Brain Games: 0.06768953068592058\n",
      "Casual;Creativity: 0.06768953068592058\n",
      "Art & Design;Creativity: 0.06768953068592058\n",
      "Education;Pretend Play: 0.056407942238267145\n",
      "Role Playing;Pretend Play: 0.04512635379061372\n",
      "Education;Creativity: 0.04512635379061372\n",
      "Role Playing;Action & Adventure: 0.03384476534296029\n",
      "Puzzle;Action & Adventure: 0.03384476534296029\n",
      "Entertainment;Creativity: 0.03384476534296029\n",
      "Entertainment;Action & Adventure: 0.03384476534296029\n",
      "Educational;Creativity: 0.03384476534296029\n",
      "Educational;Action & Adventure: 0.03384476534296029\n",
      "Education;Music & Video: 0.03384476534296029\n",
      "Education;Brain Games: 0.03384476534296029\n",
      "Education;Action & Adventure: 0.03384476534296029\n",
      "Adventure;Action & Adventure: 0.03384476534296029\n",
      "Video Players & Editors;Music & Video: 0.02256317689530686\n",
      "Sports;Action & Adventure: 0.02256317689530686\n",
      "Simulation;Pretend Play: 0.02256317689530686\n",
      "Puzzle;Creativity: 0.02256317689530686\n",
      "Music;Music & Video: 0.02256317689530686\n",
      "Entertainment;Pretend Play: 0.02256317689530686\n",
      "Casual;Education: 0.02256317689530686\n",
      "Board;Action & Adventure: 0.02256317689530686\n",
      "Video Players & Editors;Creativity: 0.01128158844765343\n",
      "Trivia;Education: 0.01128158844765343\n",
      "Travel & Local;Action & Adventure: 0.01128158844765343\n",
      "Tools;Education: 0.01128158844765343\n",
      "Strategy;Education: 0.01128158844765343\n",
      "Strategy;Creativity: 0.01128158844765343\n",
      "Strategy;Action & Adventure: 0.01128158844765343\n",
      "Simulation;Education: 0.01128158844765343\n",
      "Role Playing;Brain Games: 0.01128158844765343\n",
      "Racing;Pretend Play: 0.01128158844765343\n",
      "Puzzle;Education: 0.01128158844765343\n",
      "Parenting;Brain Games: 0.01128158844765343\n",
      "Music & Audio;Music & Video: 0.01128158844765343\n",
      "Lifestyle;Pretend Play: 0.01128158844765343\n",
      "Lifestyle;Education: 0.01128158844765343\n",
      "Health & Fitness;Education: 0.01128158844765343\n",
      "Health & Fitness;Action & Adventure: 0.01128158844765343\n",
      "Entertainment;Education: 0.01128158844765343\n",
      "Communication;Creativity: 0.01128158844765343\n",
      "Comics;Creativity: 0.01128158844765343\n",
      "Casual;Music & Video: 0.01128158844765343\n",
      "Card;Action & Adventure: 0.01128158844765343\n",
      "Books & Reference;Education: 0.01128158844765343\n",
      "Art & Design;Pretend Play: 0.01128158844765343\n",
      "Art & Design;Action & Adventure: 0.01128158844765343\n",
      "Arcade;Pretend Play: 0.01128158844765343\n",
      "Adventure;Education: 0.01128158844765343\n"
     ]
    },
    {
     "name": "stderr",
     "output_type": "stream",
     "text": [
      "/tmp/ipykernel_90609/618562121.py:8: FutureWarning: Series.__getitem__ treating keys as positions is deprecated. In a future version, integer keys will always be treated as labels (consistent with DataFrame behavior). To access a value by position, use `ser.iloc[pos]`\n",
      "  value = row[index]\n"
     ]
    }
   ],
   "source": [
    "display_table(final_android, -4)"
   ]
  },
  {
   "cell_type": "markdown",
   "metadata": {},
   "source": [
    "#### **| Conclusion**"
   ]
  },
  {
   "cell_type": "markdown",
   "metadata": {},
   "source": [
    "So far, we’ve seen that the App Store data is dominated by fun apps, while Google Play shows a more balanced mix of practical and entertaining apps."
   ]
  }
 ],
 "metadata": {
  "kernelspec": {
   "display_name": "base",
   "language": "python",
   "name": "python3"
  },
  "language_info": {
   "codemirror_mode": {
    "name": "ipython",
    "version": 3
   },
   "file_extension": ".py",
   "mimetype": "text/x-python",
   "name": "python",
   "nbconvert_exporter": "python",
   "pygments_lexer": "ipython3",
   "version": "3.12.4"
  }
 },
 "nbformat": 4,
 "nbformat_minor": 2
}
